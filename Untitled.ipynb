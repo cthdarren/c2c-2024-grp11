{
 "cells": [
  {
   "cell_type": "code",
   "execution_count": 3,
   "id": "1a819dd1",
   "metadata": {},
   "outputs": [
    {
     "name": "stdout",
     "output_type": "stream",
     "text": [
      "A\n",
      "SGD\n",
      "31.9\n",
      "['A1', 'B1', 'C1', 'E1', 'A2', 'B3', 'C3', 'B4', 'E2', 'B5', 'B6', 'A3', 'E3']\n"
     ]
    }
   ],
   "source": [
    "import main"
   ]
  },
  {
   "cell_type": "code",
   "execution_count": 56,
   "id": "8ce068f1",
   "metadata": {},
   "outputs": [
    {
     "data": {
      "text/plain": [
       "{'orderId': 'B1',\n",
       " 'time': '9:02:00',\n",
       " 'client': 'B',\n",
       " 'instrument': 'SIA',\n",
       " 'side': 'Sell',\n",
       " 'price': '32.1',\n",
       " 'quantity': '4500'}"
      ]
     },
     "execution_count": 56,
     "metadata": {},
     "output_type": "execute_result"
    }
   ],
   "source": [
    "orderDict = main.orders\n",
    "clientDict = main.clients\n",
    "instruDict = main.instruments\n",
    "\n",
    "vars(orderDict['B1'])"
   ]
  },
  {
   "cell_type": "code",
   "execution_count": 60,
   "id": "976511f9",
   "metadata": {},
   "outputs": [],
   "source": [
    "class Book:\n",
    "    def __init__(self, instrumentDict, orderDict, clientDict, instrumentId):\n",
    "        self.instrument = instrumentDict[instrumentId]\n",
    "        self.orderDict = orderDict\n",
    "        self.clientDict = clientDict\n",
    "    \n",
    "    def create_queues(self, LS_sort=LS_sort, LB_sort=LB_sort, MS_sort=MS_sort, MB_sort=MB_sort):\n",
    "        self.LS = PQueue(LS_sort,self.clientDict)\n",
    "        self.LB = PQueue(LB_sort,self.clientDict)\n",
    "        self.MS = PQueue(MS_sort,self.clientDict)\n",
    "        self.MB = PQueue(MB_sort,self.clientDict)\n",
    "    \n",
    "    def insert_order(self,order):\n",
    "        if order.side == 'Buy':\n",
    "            if order.price == 'Market':\n",
    "                self.MB.insert(order)\n",
    "                print(f\"{vars(order)} inserted in Market Buy\")\n",
    "            else:\n",
    "                self.LB.insert(order)\n",
    "                print(f\"{vars(order)} inserted in Limit Buy\")\n",
    "        elif order.side == 'Sell':\n",
    "            if order.price == 'Market':\n",
    "                self.MS.insert(order)\n",
    "                print(f\"{vars(order)} inserted in Market Sell\")\n",
    "            else:\n",
    "                self.LS.insert(order)\n",
    "                print(f\"{vars(order)} inserted in Limit Sell\")\n",
    "                \n",
    "    \n",
    "class PQueue:\n",
    "    def __init__(self, sorting_func, clientDict):\n",
    "        self.queue = []\n",
    "        self.sort = sorting_func\n",
    "        self.clientDict = clientDict\n",
    "    \n",
    "    def insert(self, order):\n",
    "        self.queue.append(order)\n",
    "        self.queue = self.sort(self.queue,self.clientDict)\n",
    "        \n"
   ]
  },
  {
   "cell_type": "code",
   "execution_count": 61,
   "id": "ede9d088",
   "metadata": {},
   "outputs": [],
   "source": [
    "SIA_book = Book(instruDict,orderDict,clientDict,'SIA')\n",
    "\n",
    "def LS_sort(queue:list, clientDict) -> list:\n",
    "    return sorted(queue,key = lambda order:(float(order.price),\n",
    "                                            clientDict[order.client].rating,\n",
    "                                            datetime.strptime(order.time,'%H:%M:%S')))\n",
    "\n",
    "def LB_sort(queue:list,clientDict) -> list:\n",
    "    return sorted(queue,key = lambda order:(-float(order.price),\n",
    "                                            clientDict[order.client].rating,\n",
    "                                            datetime.strptime(order.time,'%H:%M:%S')))\n",
    "\n",
    "def MS_sort(queue:list,clientDict) -> list:\n",
    "    return sorted(queue,key = lambda order:(clientDict[order.client].rating,\n",
    "                                            datetime.strptime(order.time,'%H:%M:%S')))\n",
    "                  \n",
    "def MB_sort(queue:list,clientDict) -> list:\n",
    "    return sorted(queue,key = lambda order:(clientDict[order.client].rating,\n",
    "                                            datetime.strptime(order.time,'%H:%M:%S')))\n",
    "    "
   ]
  },
  {
   "cell_type": "code",
   "execution_count": 50,
   "id": "e2f63a3b",
   "metadata": {},
   "outputs": [
    {
     "data": {
      "text/plain": [
       "['9:00:01', '9:45:22', '16:05:00']"
      ]
     },
     "execution_count": 50,
     "metadata": {},
     "output_type": "execute_result"
    }
   ],
   "source": [
    "from datetime import datetime\n",
    "\n",
    "inputTimeList = ['16:05:00','9:00:01','9:45:22']\n",
    "sorted(inputTimeList,key = lambda time:datetime.strptime(time,'%H:%M:%S'))\n"
   ]
  },
  {
   "cell_type": "code",
   "execution_count": 53,
   "id": "51c78970",
   "metadata": {},
   "outputs": [
    {
     "data": {
      "text/plain": [
       "dict_keys(['A1', 'B1', 'C1', 'E1', 'A2', 'B3', 'C3', 'B4', 'E2', 'B5', 'B6', 'A3', 'E3'])"
      ]
     },
     "execution_count": 53,
     "metadata": {},
     "output_type": "execute_result"
    }
   ],
   "source": [
    "main.valid_orders.keys()"
   ]
  },
  {
   "cell_type": "code",
   "execution_count": 66,
   "id": "0dd4a065",
   "metadata": {},
   "outputs": [
    {
     "name": "stdout",
     "output_type": "stream",
     "text": [
      "{'orderId': 'A1', 'time': '9:00:01', 'client': 'A', 'instrument': 'SIA', 'side': 'Buy', 'price': 'Market', 'quantity': '1500'} inserted in Market Buy\n",
      "{'orderId': 'B1', 'time': '9:02:00', 'client': 'B', 'instrument': 'SIA', 'side': 'Sell', 'price': '32.1', 'quantity': '4500'} inserted in Limit Sell\n",
      "{'orderId': 'C1', 'time': '9:05:00', 'client': 'C', 'instrument': 'SIA', 'side': 'Buy', 'price': '32', 'quantity': '100'} inserted in Limit Buy\n",
      "{'orderId': 'E1', 'time': '9:29:02', 'client': 'E', 'instrument': 'SIA', 'side': 'Sell', 'price': '32', 'quantity': '1000'} inserted in Limit Sell\n",
      "{'orderId': 'A2', 'time': '9:29:03', 'client': 'A', 'instrument': 'SIA', 'side': 'Buy', 'price': '31.9', 'quantity': '800'} inserted in Limit Buy\n"
     ]
    },
    {
     "data": {
      "text/plain": [
       "[<classes.Order at 0x75276c56c730>, <classes.Order at 0x75276c432550>]"
      ]
     },
     "execution_count": 66,
     "metadata": {},
     "output_type": "execute_result"
    }
   ],
   "source": [
    "SIA_book.create_queues()\n",
    "\n",
    "\n",
    "for key in main.valid_orders.keys():\n",
    "    if datetime.strptime(orderDict[key].time,'%H:%M:%S') >= datetime.strptime('9:30:00','%H:%M:%S'):\n",
    "        break\n",
    "    SIA_book.insert_order(orderDict[key])\n",
    "\n",
    "SIA_book.LS.queue"
   ]
  },
  {
   "cell_type": "code",
   "execution_count": 68,
   "id": "239a1bf8",
   "metadata": {},
   "outputs": [
    {
     "name": "stdout",
     "output_type": "stream",
     "text": [
      "E1\n",
      "B1\n"
     ]
    }
   ],
   "source": [
    "for order in SIA_book.LS.queue:\n",
    "    print(order.orderId)"
   ]
  },
  {
   "cell_type": "code",
   "execution_count": null,
   "id": "209d6ddc",
   "metadata": {},
   "outputs": [],
   "source": []
  }
 ],
 "metadata": {
  "kernelspec": {
   "display_name": "Python 3 (ipykernel)",
   "language": "python",
   "name": "python3"
  },
  "language_info": {
   "codemirror_mode": {
    "name": "ipython",
    "version": 3
   },
   "file_extension": ".py",
   "mimetype": "text/x-python",
   "name": "python",
   "nbconvert_exporter": "python",
   "pygments_lexer": "ipython3",
   "version": "3.9.16"
  }
 },
 "nbformat": 4,
 "nbformat_minor": 5
}
